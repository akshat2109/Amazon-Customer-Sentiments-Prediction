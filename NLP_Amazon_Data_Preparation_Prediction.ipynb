{
  "cells": [
    {
      "cell_type": "code",
      "execution_count": null,
      "metadata": {
        "id": "le7DBrqhz8qb"
      },
      "outputs": [],
      "source": [
        "import warnings\n",
        "warnings.filterwarnings(\"ignore\")                   \n",
        "\n",
        "import numpy as np                                  \n",
        "import pandas as pd                                 \n",
        "import nltk    "
      ]
    },
    {
      "cell_type": "code",
      "execution_count": null,
      "metadata": {
        "id": "W21ddh01z8qf"
      },
      "outputs": [],
      "source": [
        "df = pd.read_csv('D:\\Data Science Projects\\Reviews.csv')\n",
        "\n",
        "print(df.shape)\n",
        "df.head()"
      ]
    },
    {
      "cell_type": "code",
      "execution_count": null,
      "metadata": {
        "id": "q2Dxg8OCz8qh"
      },
      "outputs": [],
      "source": [
        "df.columns"
      ]
    },
    {
      "cell_type": "markdown",
      "metadata": {
        "id": "f3-xyKh-z8qi"
      },
      "source": [
        "### Data Preparation"
      ]
    },
    {
      "cell_type": "code",
      "execution_count": null,
      "metadata": {
        "id": "MC-u1ID1z8qk"
      },
      "outputs": [],
      "source": [
        "df['Helpful %'] = np.where(df['HelpfulnessDenominator'] > 0, df['HelpfulnessNumerator'] / df['HelpfulnessDenominator'], -1)"
      ]
    },
    {
      "cell_type": "code",
      "execution_count": null,
      "metadata": {
        "id": "Cpy1jwrXz8ql"
      },
      "outputs": [],
      "source": [
        "df.head()"
      ]
    },
    {
      "cell_type": "markdown",
      "metadata": {
        "id": "zapVlvw4z8qn"
      },
      "source": [
        "### Assigning different different labels to helpful% according to its value"
      ]
    },
    {
      "cell_type": "code",
      "execution_count": null,
      "metadata": {
        "id": "2tVciHzEz8qo"
      },
      "outputs": [],
      "source": [
        "df['Helpful %'].unique()"
      ]
    },
    {
      "cell_type": "code",
      "execution_count": null,
      "metadata": {
        "id": "5l6dwTcJz8qp"
      },
      "outputs": [],
      "source": [
        "pd.cut(df['Helpful %'] , bins = [-1, 0, 0.2, 0.4, 0.6, 0.8, 1.0], labels = ['Empty', '0-20%', '20-40%', '40-60%', '60-80%', '80-100%'])"
      ]
    },
    {
      "cell_type": "code",
      "execution_count": null,
      "metadata": {
        "id": "GJjT6gyWz8qq"
      },
      "outputs": [],
      "source": [
        "df['%upvote'] = pd.cut( df['Helpful %'] , bins = [-1, 0, 0.2, 0.4, 0.6, 0.8, 1.0], labels = ['Empty', '0-20%', '20-40%', '40-60%', '60-80%', '80-100%'])"
      ]
    },
    {
      "cell_type": "code",
      "execution_count": null,
      "metadata": {
        "id": "JoQvXz_gz8qr"
      },
      "outputs": [],
      "source": [
        "df.head()"
      ]
    },
    {
      "cell_type": "code",
      "execution_count": null,
      "metadata": {
        "id": "CoUIOrehz8qs"
      },
      "outputs": [],
      "source": [
        "df.groupby(['Score', '%upvote']).agg('count')"
      ]
    },
    {
      "cell_type": "markdown",
      "metadata": {
        "id": "rbYA1q-wz8qs"
      },
      "source": [
        "### Considering only Id Column, to count Total Upvotes for different different categories"
      ]
    },
    {
      "cell_type": "code",
      "execution_count": null,
      "metadata": {
        "id": "S8YhzfShz8qs"
      },
      "outputs": [],
      "source": [
        "df.groupby(['Score', '%upvote']).agg({'Id':'count'})"
      ]
    },
    {
      "cell_type": "code",
      "execution_count": null,
      "metadata": {
        "id": "EgC4A0Qaz8qt"
      },
      "outputs": [],
      "source": [
        "df_s=df.groupby(['Score', '%upvote']).agg({'Id':'count'}).reset_index()\n",
        "df_s"
      ]
    },
    {
      "cell_type": "markdown",
      "metadata": {
        "id": "ilViCoiqz8qu"
      },
      "source": [
        "### Create Pivot Table for better conclusion"
      ]
    },
    {
      "cell_type": "code",
      "execution_count": null,
      "metadata": {
        "id": "97efidynz8qu"
      },
      "outputs": [],
      "source": [
        "df_s.pivot(index='%upvote',columns='Score')"
      ]
    },
    {
      "cell_type": "markdown",
      "metadata": {
        "id": "TmCD8lEAz8qv"
      },
      "source": [
        "### Create heatmap for better Visualisations"
      ]
    },
    {
      "cell_type": "code",
      "execution_count": null,
      "metadata": {
        "id": "-0w8SBZDz8qv"
      },
      "outputs": [],
      "source": [
        "import seaborn as sns\n",
        "import matplotlib.pyplot as plt\n",
        "sns.heatmap(df_s.pivot(index='%upvote',columns='Score'),annot=True,cmap = 'YlGnBu')\n",
        "plt.title('How helpful users find among user scores')"
      ]
    },
    {
      "cell_type": "code",
      "execution_count": null,
      "metadata": {
        "id": "eBUWaP1Qz8qw"
      },
      "outputs": [],
      "source": [
        "df.shape"
      ]
    },
    {
      "cell_type": "code",
      "execution_count": null,
      "metadata": {
        "id": "X_0rqoKtz8qw"
      },
      "outputs": [],
      "source": [
        "df.head()"
      ]
    },
    {
      "cell_type": "code",
      "execution_count": null,
      "metadata": {
        "id": "wHOlkFalz8qx",
        "outputId": "bbde2b93-b6ff-4d95-d08b-b854ad15d9d2"
      },
      "outputs": [],
      "source": [
        "df['Score'].unique()"
      ]
    },
    {
      "cell_type": "code",
      "execution_count": null,
      "metadata": {
        "id": "3WeQvYu5z8qy"
      },
      "outputs": [],
      "source": [
        "df2 = df[df['Score'] != 3]\n",
        "X = df2['Text']\n",
        "y_dict = {1:0, 2:0, 4:1, 5:1}\n",
        "y = df2['Score'].map(y_dict)"
      ]
    },
    {
      "cell_type": "markdown",
      "metadata": {
        "id": "xKgWBKk5z8qy"
      },
      "source": [
        "### Convert text into vectors using NLP"
      ]
    },
    {
      "cell_type": "code",
      "execution_count": null,
      "metadata": {
        "id": "8YUEN9itz8qy"
      },
      "outputs": [],
      "source": [
        "from sklearn.feature_extraction.text import CountVectorizer\n",
        "c = CountVectorizer(stop_words = 'english')"
      ]
    },
    {
      "cell_type": "code",
      "execution_count": null,
      "metadata": {
        "id": "tzpQDQTBz8qz"
      },
      "outputs": [],
      "source": [
        "X_c = c.fit_transform(X)"
      ]
    },
    {
      "cell_type": "code",
      "execution_count": null,
      "metadata": {
        "id": "Lzlo6lbsz8qz"
      },
      "outputs": [],
      "source": [
        "print('features: {}'.format(X_c.shape[1]))"
      ]
    },
    {
      "cell_type": "code",
      "execution_count": null,
      "metadata": {
        "id": "25Jjo9cwz8qz"
      },
      "outputs": [],
      "source": [
        "from sklearn.model_selection import train_test_split\n",
        "X_train, X_test, y_train, y_test = train_test_split(X_c, y)\n",
        "print(' train records: {}'.format(X_train.shape[0]))"
      ]
    },
    {
      "cell_type": "code",
      "execution_count": null,
      "metadata": {
        "id": "_78iWjF6z8q0"
      },
      "outputs": [],
      "source": [
        "from sklearn.linear_model import LogisticRegression\n",
        "log=LogisticRegression()"
      ]
    },
    {
      "cell_type": "code",
      "execution_count": null,
      "metadata": {
        "id": "hUfyH7KYz8q0"
      },
      "outputs": [],
      "source": [
        "ml =log.fit(X_train, y_train)\n",
        "acc = ml.score(X_test, y_test)\n",
        "print ('Model Accuracy: {}'.format(acc))"
      ]
    },
    {
      "cell_type": "markdown",
      "metadata": {
        "id": "L41Kukesz8q0"
      },
      "source": [
        "### Fetch Top 20 Positive & Top 20 negative words"
      ]
    },
    {
      "cell_type": "code",
      "execution_count": null,
      "metadata": {
        "id": "iiYzd7xsz8q1"
      },
      "outputs": [],
      "source": [
        "w = c.get_feature_names()\n",
        "w"
      ]
    },
    {
      "cell_type": "code",
      "execution_count": null,
      "metadata": {
        "id": "C6TGDftuz8q1"
      },
      "outputs": [],
      "source": [
        "coef = ml.coef_.tolist()[0]\n",
        "coef"
      ]
    },
    {
      "cell_type": "code",
      "execution_count": null,
      "metadata": {
        "id": "d2nJPzNfz8q1"
      },
      "outputs": [],
      "source": [
        "coeff_df = pd.DataFrame({'Word' : w, 'Coefficient' : coef})\n",
        "coeff_df"
      ]
    },
    {
      "cell_type": "code",
      "execution_count": null,
      "metadata": {
        "id": "jqT5nA9Kz8q2"
      },
      "outputs": [],
      "source": [
        "coeff_df = coeff_df.sort_values(['Coefficient', 'Word'],ascending=False)\n",
        "coeff_df"
      ]
    },
    {
      "cell_type": "code",
      "execution_count": null,
      "metadata": {
        "id": "xjQVgjDgz8q2"
      },
      "outputs": [],
      "source": [
        "print('-Top 20 positive-')\n",
        "print(coeff_df.head(20).to_string(index=False))\n",
        "print('\\n')\n",
        "print('-Top 20 negative-')        \n",
        "print(coeff_df.tail(20).to_string(index=False))"
      ]
    },
    {
      "cell_type": "markdown",
      "metadata": {
        "id": "2kGAs_3Az8q3"
      },
      "source": [
        "### Function to apply mutliple NLP Techniques + Multiple Ml algos to acheive best accuracy"
      ]
    },
    {
      "cell_type": "code",
      "execution_count": null,
      "metadata": {
        "id": "HFeq3avCz8q3"
      },
      "outputs": [],
      "source": [
        "def text_fit(X, y, nlp_model,ml_model,coef_show=1):\n",
        "    \n",
        "    X_c = nlp_model.fit_transform(X)\n",
        "    print('features: {}'.format(X_c.shape[1]))\n",
        "    X_train, X_test, y_train, y_test = train_test_split(X_c, y)\n",
        "    print(' train records: {}'.format(X_train.shape[0]))\n",
        "    print(' test records: {}'.format(X_test.shape[0]))\n",
        "    ml =ml_model.fit(X_train, y_train)\n",
        "    acc = ml.score(X_test, y_test)\n",
        "    print ('Model Accuracy: {}'.format(acc))\n",
        "    \n",
        "    if coef_show == 1: \n",
        "        w = nlp_model.get_feature_names()\n",
        "        coef = ml.coef_.tolist()[0]\n",
        "        coeff_df = pd.DataFrame({'Word' : w, 'Coefficient' : coef})\n",
        "        coeff_df = coeff_df.sort_values(['Coefficient', 'Word'], ascending=[0, 1])\n",
        "        print('\\n')\n",
        "        print('-Top 20 positive-')\n",
        "        print(coeff_df.head(20).to_string(index=False))\n",
        "        print('\\n')\n",
        "        print('-Top 20 negative-')        \n",
        "        print(coeff_df.tail(20).to_string(index=False))\n",
        "    \n",
        "    \n"
      ]
    },
    {
      "cell_type": "code",
      "execution_count": null,
      "metadata": {
        "id": "ON9TVLcmz8q3"
      },
      "outputs": [],
      "source": [
        "from sklearn.feature_extraction.text import CountVectorizer\n",
        "c = CountVectorizer(stop_words = 'english')\n",
        "from sklearn.linear_model import LogisticRegression"
      ]
    },
    {
      "cell_type": "code",
      "execution_count": null,
      "metadata": {
        "id": "mFqKuG2Oz8q4"
      },
      "outputs": [],
      "source": [
        "text_fit(X, y, c, LogisticRegression())"
      ]
    },
    {
      "cell_type": "markdown",
      "metadata": {
        "id": "Atw44E4fz8q6"
      },
      "source": [
        "### Predict function"
      ]
    },
    {
      "cell_type": "code",
      "execution_count": null,
      "metadata": {
        "id": "d0a0YyaSz8q6"
      },
      "outputs": [],
      "source": [
        "from sklearn.metrics import confusion_matrix,accuracy_score\n",
        "def predict(X, y, nlp_model,ml_model):\n",
        "    \n",
        "    X_c = nlp_model.fit_transform(X)\n",
        "    print('features: {}'.format(X_c.shape[1]))\n",
        "    X_train, X_test, y_train, y_test = train_test_split(X_c, y)\n",
        "    print(' train records: {}'.format(X_train.shape[0]))\n",
        "    print(' test records: {}'.format(X_test.shape[0]))\n",
        "    ml =ml_model.fit(X_train, y_train)\n",
        "    predictions=ml.predict(X_test)\n",
        "    cm=confusion_matrix(predictions,y_test)\n",
        "    print(cm)\n",
        "    acc=accuracy_score(predictions,y_test)\n",
        "    print(acc)"
      ]
    },
    {
      "cell_type": "code",
      "execution_count": null,
      "metadata": {
        "id": "IHhRbctOz8q7"
      },
      "outputs": [],
      "source": [
        "from sklearn.feature_extraction.text import CountVectorizer\n",
        "c = CountVectorizer(stop_words = 'english')\n",
        "from sklearn.linear_model import LogisticRegression\n",
        "lr=LogisticRegression()"
      ]
    },
    {
      "cell_type": "code",
      "execution_count": null,
      "metadata": {
        "id": "ScIEPyZAz8q7"
      },
      "outputs": [],
      "source": [
        "predict(X,y,c,lr)"
      ]
    },
    {
      "cell_type": "markdown",
      "metadata": {
        "id": "RV5ktJQUz8q7"
      },
      "source": [
        "### Accuracy is around 93.9%"
      ]
    },
    {
      "cell_type": "code",
      "execution_count": null,
      "metadata": {
        "id": "d5MlgB8yz8q8"
      },
      "outputs": [],
      "source": [
        "from sklearn.dummy import DummyClassifier"
      ]
    },
    {
      "cell_type": "code",
      "execution_count": null,
      "metadata": {
        "id": "mC2SbK6Mz8q8"
      },
      "outputs": [],
      "source": [
        "text_fit(X, y, c, DummyClassifier(),0)"
      ]
    },
    {
      "cell_type": "markdown",
      "metadata": {
        "id": "imM7xEixz8q8"
      },
      "source": [
        "### Logistic regression model on TFIDF"
      ]
    },
    {
      "cell_type": "code",
      "execution_count": null,
      "metadata": {
        "id": "-g3cn51Oz8q8"
      },
      "outputs": [],
      "source": [
        "from sklearn.feature_extraction.text import TfidfVectorizer\n",
        "tfidf = TfidfVectorizer(stop_words = 'english')\n",
        "text_fit(X, y, tfidf, LogisticRegression())"
      ]
    },
    {
      "cell_type": "code",
      "execution_count": null,
      "metadata": {
        "id": "B5yYdXIfz8q9"
      },
      "outputs": [],
      "source": [
        "\n",
        "from sklearn.feature_extraction.text import TfidfVectorizer\n",
        "tfidf = TfidfVectorizer(stop_words = 'english')\n",
        "predict(X, y, tfidf, LogisticRegression())"
      ]
    },
    {
      "cell_type": "markdown",
      "metadata": {
        "id": "rF2sd7ipz8q9"
      },
      "source": [
        "### Upvote prediction"
      ]
    },
    {
      "cell_type": "code",
      "execution_count": null,
      "metadata": {
        "id": "Ie7UKcH4z8q-"
      },
      "outputs": [],
      "source": [
        "data = df[df['Score'] == 5]"
      ]
    },
    {
      "cell_type": "code",
      "execution_count": null,
      "metadata": {
        "id": "1Xfej6Qdz8q-"
      },
      "outputs": [],
      "source": [
        "data.columns"
      ]
    },
    {
      "cell_type": "code",
      "execution_count": null,
      "metadata": {
        "id": "8GRwQ6CLz8q-"
      },
      "outputs": [],
      "source": [
        "data2 = data[data['%upvote'].isin(['0-20%', '20-40%', '60-80%', '80-100%'])]\n",
        "data2.shape"
      ]
    },
    {
      "cell_type": "code",
      "execution_count": null,
      "metadata": {
        "id": "gKVLxLZvz8q_"
      },
      "outputs": [],
      "source": [
        "X = data2['Text']"
      ]
    },
    {
      "cell_type": "code",
      "execution_count": null,
      "metadata": {
        "id": "87SgT98Ez8q_"
      },
      "outputs": [],
      "source": [
        "y_dict = {'0-20%': 0, '20-40%': 0, '60-80%': 1, '80-100%': 1}\n",
        "y = data2['%upvote'].map(y_dict)"
      ]
    },
    {
      "cell_type": "code",
      "execution_count": null,
      "metadata": {
        "id": "6C0LEe_qz8q_"
      },
      "outputs": [],
      "source": [
        "print(y.value_counts())"
      ]
    },
    {
      "cell_type": "markdown",
      "metadata": {
        "id": "QyF4XJDxz8q_"
      },
      "source": [
        "### The target class 'y' is highly skewed , observes that positive upvotes are too much higher than negative ones.\n",
        "    "
      ]
    },
    {
      "cell_type": "code",
      "execution_count": null,
      "metadata": {
        "id": "8DJW2O7Yz8q_"
      },
      "outputs": [],
      "source": [
        "from sklearn.feature_extraction.text import TfidfVectorizer"
      ]
    },
    {
      "cell_type": "code",
      "execution_count": null,
      "metadata": {
        "id": "xsOK2G0sz8rA"
      },
      "outputs": [],
      "source": [
        "tf=TfidfVectorizer()"
      ]
    },
    {
      "cell_type": "code",
      "execution_count": null,
      "metadata": {
        "id": "mt8MV8zQz8rA"
      },
      "outputs": [],
      "source": [
        "X_c=tf.fit_transform(X)"
      ]
    },
    {
      "cell_type": "code",
      "execution_count": null,
      "metadata": {
        "id": "IuNLWTQkz8rA"
      },
      "outputs": [],
      "source": [
        "from sklearn.model_selection import train_test_split\n",
        "X_train,X_test,y_train,y_test=train_test_split(X_c,y,train_size=0.7)"
      ]
    },
    {
      "cell_type": "code",
      "execution_count": null,
      "metadata": {
        "id": "xcbBHvYvz8rA"
      },
      "outputs": [],
      "source": [
        "y_test.value_counts()"
      ]
    },
    {
      "cell_type": "code",
      "execution_count": null,
      "metadata": {
        "id": "f171PvGzz8rA"
      },
      "outputs": [],
      "source": [
        "from imblearn.over_sampling import RandomOverSampler"
      ]
    },
    {
      "cell_type": "code",
      "execution_count": null,
      "metadata": {
        "id": "y9mpqQTwz8rB"
      },
      "outputs": [],
      "source": [
        "os =  RandomOverSampler()"
      ]
    },
    {
      "cell_type": "code",
      "execution_count": null,
      "metadata": {
        "id": "wFhGF7Paz8rB"
      },
      "outputs": [],
      "source": [
        "X_train_res, y_train_res = os.fit_sample(X_c, y)"
      ]
    },
    {
      "cell_type": "code",
      "execution_count": null,
      "metadata": {
        "id": "IeOSOG40z8rC"
      },
      "outputs": [],
      "source": [
        "X_train_res.shape,y_train_res.shape"
      ]
    },
    {
      "cell_type": "code",
      "execution_count": null,
      "metadata": {
        "id": "hOgtYwhlz8rC"
      },
      "outputs": [],
      "source": [
        "from collections import Counter"
      ]
    },
    {
      "cell_type": "code",
      "execution_count": null,
      "metadata": {
        "id": "3mHjmMbRz8rD"
      },
      "outputs": [],
      "source": [
        "print('Original dataset shape {}'.format(Counter(y)))\n",
        "print('Resampled dataset shape {}'.format(Counter(y_train_res)))"
      ]
    },
    {
      "cell_type": "code",
      "execution_count": null,
      "metadata": {
        "id": "aSv6hxvUz8rE"
      },
      "outputs": [],
      "source": [
        "from sklearn.linear_model import LogisticRegression"
      ]
    },
    {
      "cell_type": "code",
      "execution_count": null,
      "metadata": {
        "id": "8qc9kMnsz8rE"
      },
      "outputs": [],
      "source": [
        "log_class=LogisticRegression()"
      ]
    },
    {
      "cell_type": "code",
      "execution_count": null,
      "metadata": {
        "id": "Ou1mQvSlz8rE"
      },
      "outputs": [],
      "source": [
        "grid={'C':10.0 **np.arange(-2,3),'penalty':['l1','l2']}"
      ]
    },
    {
      "cell_type": "code",
      "execution_count": null,
      "metadata": {
        "id": "wnqtR0N5z8rE"
      },
      "outputs": [],
      "source": [
        "import numpy as np\n",
        "from sklearn.model_selection import GridSearchCV"
      ]
    },
    {
      "cell_type": "code",
      "execution_count": null,
      "metadata": {
        "id": "n4IOiJ9Xz8rE"
      },
      "outputs": [],
      "source": [
        "clf=GridSearchCV(estimator=log_class,param_grid=grid,cv=5,n_jobs=-1,scoring='f1_macro')\n",
        "clf.fit(X_train_res,y_train_res)"
      ]
    },
    {
      "cell_type": "code",
      "execution_count": null,
      "metadata": {
        "id": "g3ebEOVrz8rF"
      },
      "outputs": [],
      "source": [
        "y_pred=clf.predict(X_test)\n",
        "print(confusion_matrix(y_test,y_pred))\n",
        "print(accuracy_score(y_test,y_pred))"
      ]
    }
  ],
  "metadata": {
    "colab": {
      "collapsed_sections": [],
      "name": "NLP_Amazon_Data_Preparation_Prediction.ipynb",
      "provenance": []
    },
    "kernelspec": {
      "display_name": "Python 3",
      "language": "python",
      "name": "python3"
    },
    "language_info": {
      "codemirror_mode": {
        "name": "ipython",
        "version": 3
      },
      "file_extension": ".py",
      "mimetype": "text/x-python",
      "name": "python",
      "nbconvert_exporter": "python",
      "pygments_lexer": "ipython3",
      "version": "3.7.4"
    }
  },
  "nbformat": 4,
  "nbformat_minor": 0
}
